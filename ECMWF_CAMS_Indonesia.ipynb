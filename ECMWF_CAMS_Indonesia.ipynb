{
    "cells": [
        {
            "cell_type": "code",
            "execution_count": 1,
            "source": [
                "import geemap\n",
                "import ee\n",
                "\n",
                "from ipyleaflet import basemaps\n",
                "import datetime"
            ],
            "outputs": [],
            "metadata": {}
        },
        {
            "cell_type": "markdown",
            "source": [
                "# Indonesian Atmosphere\n",
                "\n",
                "PM2.5 Data from Copernicus Atmosphere Monitoring Service overlaid with Coal Power Plants data from World Resource Institute (WRI). Units in ug/m^3 and values below 30ug/m^3 are not shown on the map."
            ],
            "metadata": {}
        },
        {
            "cell_type": "code",
            "execution_count": 2,
            "source": [
                "now = datetime.datetime.utcnow()\n",
                "step = int(now.hour / 6)\n",
                "obs = datetime.datetime(now.year, now.month, now.day, step * 6)\n",
                "\n",
                "print('Datetime :', obs.strftime(\"%Y-%m-%d %H:%M UTC\"))"
            ],
            "outputs": [
                {
                    "output_type": "stream",
                    "name": "stdout",
                    "text": [
                        "Datetime : 2021-07-25 06:00 UTC\n"
                    ]
                }
            ],
            "metadata": {}
        },
        {
            "cell_type": "code",
            "execution_count": 3,
            "source": [
                "Map = geemap.Map(center=(0,120), zoom=5,\n",
                "    min_zoom=5, max_zoom=12,\n",
                "    basemap=basemaps.CartoDB.DarkMatter,\n",
                "    add_google_map=False\n",
                ")"
            ],
            "outputs": [],
            "metadata": {}
        },
        {
            "cell_type": "code",
            "execution_count": 5,
            "source": [
                "fname = f'pm2p5_{obs.strftime(\"%Y%m%dT%H\")}.tif'\n",
                "\n",
                "pm2p5 = ee.Image.loadGeoTIFF(f'gs://cams-neonet/{fname}')\n",
                "data = pm2p5.resample().reproject(ee.Projection('EPSG:4326'), scale=1000)\n",
                "data = data.updateMask(data.gt(30))\n",
                "\n",
                "indo_power = ee.FeatureCollection('WRI/GPPD/power_plants') \\\n",
                "    .filter(ee.Filter.eq('country', 'IDN')) \\\n",
                "    .filter(ee.Filter.eq('fuel1', 'Coal'))"
            ],
            "outputs": [],
            "metadata": {}
        },
        {
            "cell_type": "code",
            "execution_count": 7,
            "source": [
                "bbox = ee.Geometry.BBox(80, -15, 160, 15)\n",
                "\n",
                "vmin = 0\n",
                "vmax = 250\n",
                "palette = ['blue', 'yellow', 'red', 'black']\n",
                "\n",
                "vis_params = {\n",
                "    'min' : vmin,\n",
                "    'max' : vmax,\n",
                "    'palette' : palette,\n",
                "    'opacity' : 0.5,\n",
                "}\n",
                "\n",
                "Map.addLayer(data.clip(bbox), vis_params, 'PM2.5')\n",
                "Map.addLayer(indo_power, {'color' : 'ff0000'}, 'Coal Power Plant')\n",
                "Map.add_colorbar_branca(colors=palette, vmin=vmin, vmax=vmax,\n",
                "    layer_name='PM2.5')\n",
                "Map.addLayerControl()\n",
                "Map"
            ],
            "outputs": [
                {
                    "output_type": "display_data",
                    "data": {
                        "text/plain": [
                            "Map(bottom=4457.0, center=[-2.67968661580376, 120.41015625000001], controls=(WidgetControl(options=['position'…"
                        ],
                        "application/vnd.jupyter.widget-view+json": {
                            "version_major": 2,
                            "version_minor": 0,
                            "model_id": "a737fa3cdad04856929402c05b487662"
                        }
                    },
                    "metadata": {}
                }
            ],
            "metadata": {}
        },
        {
            "cell_type": "code",
            "execution_count": null,
            "source": [],
            "outputs": [],
            "metadata": {}
        }
    ],
    "metadata": {
        "orig_nbformat": 4,
        "language_info": {
            "name": "python",
            "version": "3.8.10",
            "mimetype": "text/x-python",
            "codemirror_mode": {
                "name": "ipython",
                "version": 3
            },
            "pygments_lexer": "ipython3",
            "nbconvert_exporter": "python",
            "file_extension": ".py"
        },
        "kernelspec": {
            "name": "python3",
            "display_name": "Python 3.8.10 64-bit ('atmosphere': conda)"
        },
        "interpreter": {
            "hash": "12dce9f744a963c34f8244fd98ee1c59f69b7da92911c77a1f54706257586b6c"
        }
    },
    "nbformat": 4,
    "nbformat_minor": 2
}