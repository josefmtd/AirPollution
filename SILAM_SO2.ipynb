{
    "cells": [
        {
            "cell_type": "code",
            "execution_count": 1,
            "source": [
                "import geemap\n",
                "import ee\n",
                "\n",
                "from ipyleaflet import basemaps\n",
                "import datetime"
            ],
            "outputs": [],
            "metadata": {}
        },
        {
            "cell_type": "markdown",
            "source": [
                "# Air Pollution over Indonesia\n",
                "\n",
                "Sulfur Dioxide Data is obtained from Finnish Meteorological Institute (https://silam.fmi.fi/) overlaid with Coal Power Plants data from World Resource Institute (WRI). Units in ug/m^3 and values below 10 ug/m^3 are not shown on the map. This map is updated every hour. For more information, please visit https://josefmtd.com/."
            ],
            "metadata": {}
        },
        {
            "cell_type": "code",
            "execution_count": 2,
            "source": [
                "# Get the observed datetime\n",
                "now = datetime.datetime.utcnow()\n",
                "obs = datetime.datetime(now.year, now.month, now.day, now.hour)\n",
                "\n",
                "print('Datetime :', obs.strftime(\"%Y-%m-%d %H:%M UTC\"))"
            ],
            "outputs": [
                {
                    "output_type": "stream",
                    "name": "stdout",
                    "text": [
                        "Datetime : 2021-07-30 10:00 UTC\n"
                    ]
                }
            ],
            "metadata": {}
        },
        {
            "cell_type": "code",
            "execution_count": 3,
            "source": [
                "# Create a map service\n",
                "Map = geemap.Map(center=(0,120), zoom=5,\n",
                "    min_zoom=5, max_zoom=12,\n",
                "    basemap=basemaps.CartoDB.DarkMatter,\n",
                "    add_google_map=False\n",
                ")"
            ],
            "outputs": [],
            "metadata": {}
        },
        {
            "cell_type": "code",
            "execution_count": 4,
            "source": [
                "# Obtain NO2 data from SILAM TDS Catalog exported to Google Cloud Storage\n",
                "fname = f'SO2_{obs.strftime(\"%Y%m%dT%H\")}.tif'\n",
                "var = ee.Image.loadGeoTIFF(f'gs://silam-neonet-rasters/{fname}')\n",
                "\n",
                "# Resample and only show values above 10 ug/m^3\n",
                "data = var.resample().reproject(ee.Projection('EPSG:4326'), scale=1000)\n",
                "data = data.updateMask(data.gt(10))\n",
                "\n",
                "# Add Coal Power Plant from WRI's Global Power Plant Database\n",
                "indo_power = ee.FeatureCollection('WRI/GPPD/power_plants') \\\n",
                "    .filter(ee.Filter.eq('country', 'IDN')) \\\n",
                "    .filter(ee.Filter.eq('fuel1', 'Coal'))"
            ],
            "outputs": [],
            "metadata": {}
        },
        {
            "cell_type": "code",
            "execution_count": 5,
            "source": [
                "# Limit the area around Indonesia\n",
                "bbox = ee.Geometry.BBox(80.0, -15.0, 160.0, 15.0)\n",
                "\n",
                "# Visualization Parameters\n",
                "vmin = 0.0\n",
                "vmax = 250.0\n",
                "palette = ['blue', 'yellow', 'red', 'purple']\n",
                "\n",
                "vis_params = {\n",
                "    'min' : vmin,\n",
                "    'max' : vmax,\n",
                "    'palette' : palette,\n",
                "    'opacity' : 0.5,\n",
                "}\n",
                "\n",
                "# Add Coal Power Plant data and Sulfur Dioxide data\n",
                "Map.addLayer(data.clip(bbox), vis_params, 'SO2')\n",
                "Map.addLayer(indo_power, {'color' : 'ff0000'}, 'Coal Power Plant')\n",
                "Map.add_colorbar_branca(colors=palette, vmin=vmin, vmax=vmax,\n",
                "    layer_name='SO2')\n",
                "Map.addLayerControl()\n",
                "Map"
            ],
            "outputs": [
                {
                    "output_type": "display_data",
                    "data": {
                        "text/plain": [
                            "Map(center=[0, 120], controls=(WidgetControl(options=['position', 'transparent_bg'], widget=HBox(children=(Tog…"
                        ],
                        "application/vnd.jupyter.widget-view+json": {
                            "version_major": 2,
                            "version_minor": 0,
                            "model_id": "9cd4a4f3063443ea8720deabeaffce66"
                        }
                    },
                    "metadata": {}
                }
            ],
            "metadata": {}
        },
        {
            "cell_type": "code",
            "execution_count": null,
            "source": [],
            "outputs": [],
            "metadata": {}
        }
    ],
    "metadata": {
        "orig_nbformat": 4,
        "language_info": {
            "name": "python",
            "version": "3.8.10",
            "mimetype": "text/x-python",
            "codemirror_mode": {
                "name": "ipython",
                "version": 3
            },
            "pygments_lexer": "ipython3",
            "nbconvert_exporter": "python",
            "file_extension": ".py"
        },
        "kernelspec": {
            "name": "python3",
            "display_name": "Python 3.8.10 64-bit ('atmosphere': conda)"
        },
        "interpreter": {
            "hash": "12dce9f744a963c34f8244fd98ee1c59f69b7da92911c77a1f54706257586b6c"
        }
    },
    "nbformat": 4,
    "nbformat_minor": 2
}